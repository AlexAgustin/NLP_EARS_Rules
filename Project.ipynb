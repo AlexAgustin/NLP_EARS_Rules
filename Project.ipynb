{
 "cells": [
  {
   "cell_type": "code",
   "execution_count": 2,
   "id": "fExiyAJ0n_EM",
   "metadata": {
    "colab": {
     "base_uri": "https://localhost:8080/"
    },
    "executionInfo": {
     "elapsed": 36834,
     "status": "ok",
     "timestamp": 1698911406013,
     "user": {
      "displayName": "Alex Agustín",
      "userId": "09506120750090096290"
     },
     "user_tz": -180
    },
    "id": "fExiyAJ0n_EM",
    "outputId": "36e79f04-dec5-4a25-9c85-03aca3adb27e"
   },
   "outputs": [
    {
     "name": "stdout",
     "output_type": "stream",
     "text": [
      "Defaulting to user installation because normal site-packages is not writeable\n",
      "Requirement already satisfied: textstat in /home/alex_linux_2023/.local/lib/python3.10/site-packages (0.7.3)\n",
      "Requirement already satisfied: pyphen in /home/alex_linux_2023/.local/lib/python3.10/site-packages (from textstat) (0.14.0)\n",
      "--2023-11-02 11:59:18--  https://huggingface.co/stanfordnlp/CoreNLP/resolve/main/stanford-corenlp-latest.zip\n",
      "Resolviendo huggingface.co (huggingface.co)... 2600:9000:24de:400:17:b174:6d00:93a1, 2600:9000:24de:be00:17:b174:6d00:93a1, 2600:9000:24de:ac00:17:b174:6d00:93a1, ...\n",
      "Conectando con huggingface.co (huggingface.co)[2600:9000:24de:400:17:b174:6d00:93a1]:443... conectado.\n",
      "Petición HTTP enviada, esperando respuesta... 302 Found\n",
      "Ubicación: https://cdn-lfs.huggingface.co/stanfordnlp/CoreNLP/e7b1b5e237d11db620c1b237db751cc7d413ec5c613e8ee4b5645fdc953ba67a?response-content-disposition=attachment%3B+filename*%3DUTF-8%27%27stanford-corenlp-latest.zip%3B+filename%3D%22stanford-corenlp-latest.zip%22%3B&response-content-type=application%2Fzip&Expires=1699178359&Policy=eyJTdGF0ZW1lbnQiOlt7IkNvbmRpdGlvbiI6eyJEYXRlTGVzc1RoYW4iOnsiQVdTOkVwb2NoVGltZSI6MTY5OTE3ODM1OX19LCJSZXNvdXJjZSI6Imh0dHBzOi8vY2RuLWxmcy5odWdnaW5nZmFjZS5jby9zdGFuZm9yZG5scC9Db3JlTkxQL2U3YjFiNWUyMzdkMTFkYjYyMGMxYjIzN2RiNzUxY2M3ZDQxM2VjNWM2MTNlOGVlNGI1NjQ1ZmRjOTUzYmE2N2E%7EcmVzcG9uc2UtY29udGVudC1kaXNwb3NpdGlvbj0qJnJlc3BvbnNlLWNvbnRlbnQtdHlwZT0qIn1dfQ__&Signature=d0hjaDYGQKrFC4HC3LX6w66CiUBGdCHgdixIUl3gsfttblELA6VG9ZKxCCJr8NWeCHAFIFX7U9tyV3e42cCpNlfuPlVi3tVAjxp11joRh5icqQE3z4VHPlGx9Uo3ZQTKOt-tpd42fxhlnXLxcgH-8w%7EiiqpuCN8ceLKAJ78xtI2C%7E3EZtNo%7E7Dv8yznwjeV7HB9abp5rTR0Q1q4FqT5O04dPyIK%7EQIWL%7EXHuaTCFsJvkXG0B1FWVU-J-pSb141aLm1bGE1g8qb41HIscegtaqU1BWR30huIj6gfA3LN%7ELwXyrjdSyztw8Pqa%7EDOxyo5nlMxWThgvDi6h5Mi9SQoY-g__&Key-Pair-Id=KVTP0A1DKRTAX [siguiente]\n",
      "--2023-11-02 11:59:19--  https://cdn-lfs.huggingface.co/stanfordnlp/CoreNLP/e7b1b5e237d11db620c1b237db751cc7d413ec5c613e8ee4b5645fdc953ba67a?response-content-disposition=attachment%3B+filename*%3DUTF-8%27%27stanford-corenlp-latest.zip%3B+filename%3D%22stanford-corenlp-latest.zip%22%3B&response-content-type=application%2Fzip&Expires=1699178359&Policy=eyJTdGF0ZW1lbnQiOlt7IkNvbmRpdGlvbiI6eyJEYXRlTGVzc1RoYW4iOnsiQVdTOkVwb2NoVGltZSI6MTY5OTE3ODM1OX19LCJSZXNvdXJjZSI6Imh0dHBzOi8vY2RuLWxmcy5odWdnaW5nZmFjZS5jby9zdGFuZm9yZG5scC9Db3JlTkxQL2U3YjFiNWUyMzdkMTFkYjYyMGMxYjIzN2RiNzUxY2M3ZDQxM2VjNWM2MTNlOGVlNGI1NjQ1ZmRjOTUzYmE2N2E%7EcmVzcG9uc2UtY29udGVudC1kaXNwb3NpdGlvbj0qJnJlc3BvbnNlLWNvbnRlbnQtdHlwZT0qIn1dfQ__&Signature=d0hjaDYGQKrFC4HC3LX6w66CiUBGdCHgdixIUl3gsfttblELA6VG9ZKxCCJr8NWeCHAFIFX7U9tyV3e42cCpNlfuPlVi3tVAjxp11joRh5icqQE3z4VHPlGx9Uo3ZQTKOt-tpd42fxhlnXLxcgH-8w%7EiiqpuCN8ceLKAJ78xtI2C%7E3EZtNo%7E7Dv8yznwjeV7HB9abp5rTR0Q1q4FqT5O04dPyIK%7EQIWL%7EXHuaTCFsJvkXG0B1FWVU-J-pSb141aLm1bGE1g8qb41HIscegtaqU1BWR30huIj6gfA3LN%7ELwXyrjdSyztw8Pqa%7EDOxyo5nlMxWThgvDi6h5Mi9SQoY-g__&Key-Pair-Id=KVTP0A1DKRTAX\n",
      "Resolviendo cdn-lfs.huggingface.co (cdn-lfs.huggingface.co)... 2600:9000:24de:9800:11:f807:5180:93a1, 2600:9000:24de:6200:11:f807:5180:93a1, 2600:9000:24de:a800:11:f807:5180:93a1, ...\n",
      "Conectando con cdn-lfs.huggingface.co (cdn-lfs.huggingface.co)[2600:9000:24de:9800:11:f807:5180:93a1]:443... conectado.\n",
      "Petición HTTP enviada, esperando respuesta... 200 OK\n",
      "Longitud: 505626302 (482M) [application/zip]\n",
      "Guardando como: ‘stanford-corenlp-latest.zip’\n",
      "\n",
      "stanford-corenlp-la 100%[===================>] 482,20M  1,74MB/s    en 4m 58s  \n",
      "\n",
      "2023-11-02 12:04:18 (1,62 MB/s) - ‘stanford-corenlp-latest.zip’ guardado [505626302/505626302]\n",
      "\n",
      "Archive:  stanford-corenlp-latest.zip\n",
      "   creating: stanford-corenlp-4.5.5/\n",
      "  inflating: stanford-corenlp-4.5.5/javax.activation-api-1.2.0.jar  \n",
      "  inflating: stanford-corenlp-4.5.5/Makefile  \n",
      "   creating: stanford-corenlp-4.5.5/sutime/\n",
      "  inflating: stanford-corenlp-4.5.5/sutime/spanish.sutime.txt  \n",
      "  inflating: stanford-corenlp-4.5.5/sutime/english.holidays.sutime.txt  \n",
      "  inflating: stanford-corenlp-4.5.5/sutime/defs.sutime.txt  \n",
      "  inflating: stanford-corenlp-4.5.5/sutime/english.sutime.txt  \n",
      "  inflating: stanford-corenlp-4.5.5/sutime/british.sutime.txt  \n",
      "  inflating: stanford-corenlp-4.5.5/joda-time.jar  \n",
      "  inflating: stanford-corenlp-4.5.5/RESOURCE-LICENSES  \n",
      "  inflating: stanford-corenlp-4.5.5/jaxb-api-2.4.0-b180830.0359.jar  \n",
      "  inflating: stanford-corenlp-4.5.5/slf4j-simple.jar  \n",
      "  inflating: stanford-corenlp-4.5.5/build.xml  \n",
      "  inflating: stanford-corenlp-4.5.5/xom.jar  \n",
      "  inflating: stanford-corenlp-4.5.5/stanford-corenlp-4.5.5-sources.jar  \n",
      "  inflating: stanford-corenlp-4.5.5/LICENSE.txt  \n",
      "  inflating: stanford-corenlp-4.5.5/jaxb-impl-2.4.0-b180830.0438.jar  \n",
      "  inflating: stanford-corenlp-4.5.5/jollyday.jar  \n",
      "  inflating: stanford-corenlp-4.5.5/slf4j-api.jar  \n",
      "  inflating: stanford-corenlp-4.5.5/StanfordCoreNlpDemo.java  \n",
      "  inflating: stanford-corenlp-4.5.5/ejml-core-0.39-sources.jar  \n",
      "  inflating: stanford-corenlp-4.5.5/input.txt  \n",
      "  inflating: stanford-corenlp-4.5.5/stanford-corenlp-4.5.5-models.jar  \n",
      "  inflating: stanford-corenlp-4.5.5/StanfordDependenciesManual.pdf  \n",
      "  inflating: stanford-corenlp-4.5.5/SemgrexDemo.java  \n",
      "  inflating: stanford-corenlp-4.5.5/jollyday-0.4.9-sources.jar  \n",
      "  inflating: stanford-corenlp-4.5.5/input.txt.xml  \n",
      "  inflating: stanford-corenlp-4.5.5/README.txt  \n",
      "  inflating: stanford-corenlp-4.5.5/istack-commons-runtime-3.0.7.jar  \n",
      "   creating: stanford-corenlp-4.5.5/tokensregex/\n",
      "  inflating: stanford-corenlp-4.5.5/tokensregex/retokenize.txt  \n",
      "  inflating: stanford-corenlp-4.5.5/tokensregex/color.rules.txt  \n",
      "  inflating: stanford-corenlp-4.5.5/tokensregex/color.properties  \n",
      "  inflating: stanford-corenlp-4.5.5/tokensregex/color.input.txt  \n",
      "  inflating: stanford-corenlp-4.5.5/javax.activation-api-1.2.0-sources.jar  \n",
      "  inflating: stanford-corenlp-4.5.5/javax.json-api-1.0-sources.jar  \n",
      "  inflating: stanford-corenlp-4.5.5/ejml-simple-0.39-sources.jar  \n",
      "  inflating: stanford-corenlp-4.5.5/ejml-ddense-0.39-sources.jar  \n",
      "  inflating: stanford-corenlp-4.5.5/joda-time-2.10.5-sources.jar  \n",
      "  inflating: stanford-corenlp-4.5.5/ejml-core-0.39.jar  \n",
      "  inflating: stanford-corenlp-4.5.5/javax.json.jar  \n",
      "  inflating: stanford-corenlp-4.5.5/xom-1.3.9-sources.jar  \n",
      "  inflating: stanford-corenlp-4.5.5/input.txt.out  \n",
      "  inflating: stanford-corenlp-4.5.5/stanford-corenlp-4.5.5.jar  \n",
      "  inflating: stanford-corenlp-4.5.5/pom-java-11.xml  \n",
      "  inflating: stanford-corenlp-4.5.5/ejml-simple-0.39.jar  \n",
      "  inflating: stanford-corenlp-4.5.5/LIBRARY-LICENSES  \n",
      "  inflating: stanford-corenlp-4.5.5/jaxb-impl-2.4.0-b180830.0438-sources.jar  \n",
      "  inflating: stanford-corenlp-4.5.5/protobuf-java-3.19.6.jar  \n",
      "  inflating: stanford-corenlp-4.5.5/CoreNLP-to-HTML.xsl  \n",
      "  inflating: stanford-corenlp-4.5.5/corenlp.sh  \n",
      "  inflating: stanford-corenlp-4.5.5/istack-commons-runtime-3.0.7-sources.jar  \n",
      "  inflating: stanford-corenlp-4.5.5/ShiftReduceDemo.java  \n",
      "   creating: stanford-corenlp-4.5.5/patterns/\n",
      " extracting: stanford-corenlp-4.5.5/patterns/otherpeople.txt  \n",
      "  inflating: stanford-corenlp-4.5.5/patterns/stopwords.txt  \n",
      "  inflating: stanford-corenlp-4.5.5/patterns/example.properties  \n",
      "  inflating: stanford-corenlp-4.5.5/patterns/presidents.txt  \n",
      "  inflating: stanford-corenlp-4.5.5/patterns/goldnames.txt  \n",
      "  inflating: stanford-corenlp-4.5.5/patterns/names.txt  \n",
      " extracting: stanford-corenlp-4.5.5/patterns/goldplaces.txt  \n",
      " extracting: stanford-corenlp-4.5.5/patterns/places.txt  \n",
      "  inflating: stanford-corenlp-4.5.5/pom.xml  \n",
      "  inflating: stanford-corenlp-4.5.5/sample-project-pom.xml  \n",
      "  inflating: stanford-corenlp-4.5.5/stanford-corenlp-4.5.5-javadoc.jar  \n",
      "  inflating: stanford-corenlp-4.5.5/jaxb-api-2.4.0-b180830.0359-sources.jar  \n",
      "  inflating: stanford-corenlp-4.5.5/pom-java-17.xml  \n",
      "  inflating: stanford-corenlp-4.5.5/ejml-ddense-0.39.jar  \n"
     ]
    }
   ],
   "source": [
    "!pip install textstat\n",
    "!wget https://huggingface.co/stanfordnlp/CoreNLP/resolve/main/stanford-corenlp-latest.zip\n",
    "!unzip stanford-corenlp-latest.zip\n"
   ]
  },
  {
   "cell_type": "code",
   "execution_count": 3,
   "id": "QvTukpgc6OUz",
   "metadata": {
    "colab": {
     "base_uri": "https://localhost:8080/"
    },
    "executionInfo": {
     "elapsed": 721358,
     "status": "ok",
     "timestamp": 1698347889442,
     "user": {
      "displayName": "Alex Agustín",
      "userId": "09506120750090096290"
     },
     "user_tz": -180
    },
    "id": "QvTukpgc6OUz",
    "outputId": "f21134ad-3230-41b5-d3d3-761c7563fe3b"
   },
   "outputs": [
    {
     "name": "stdout",
     "output_type": "stream",
     "text": [
      "/home/alex_linux_2023/Descargas/stanford-corenlp-4.5.5\n",
      "[main] INFO CoreNLP - --- StanfordCoreNLPServer#main() called ---\n",
      "[main] INFO CoreNLP - Server default properties:\n",
      "\t\t\t(Note: unspecified annotator properties are English defaults)\n",
      "\t\t\tinputFormat = text\n",
      "\t\t\toutputFormat = json\n",
      "\t\t\tprettyPrint = false\n",
      "[main] INFO CoreNLP - Threads: 8\n",
      "[main] INFO CoreNLP - Starting server...\n",
      "[main] INFO CoreNLP - StanfordCoreNLPServer listening at /0:0:0:0:0:0:0:0:9001\n",
      "^C\n",
      "[Thread-0] INFO CoreNLP - CoreNLP Server is shutting down.\n"
     ]
    }
   ],
   "source": [
    "#%cd /content/drive/MyDrive/stanford-corenlp-4.5.5/\n",
    "%cd stanford-corenlp-4.5.5/\n",
    "#!cd stanford-corenlp-4.5.5/\n",
    "!java -mx4g -cp \"*\" edu.stanford.nlp.pipeline.StanfordCoreNLPServer -port 9001 -timeout 15000"
   ]
  },
  {
   "cell_type": "code",
   "execution_count": 61,
   "id": "f9b243a7-e7d1-44b3-b3ec-e55dab22b9fa",
   "metadata": {
    "colab": {
     "base_uri": "https://localhost:8080/"
    },
    "executionInfo": {
     "elapsed": 368,
     "status": "ok",
     "timestamp": 1698911412173,
     "user": {
      "displayName": "Alex Agustín",
      "userId": "09506120750090096290"
     },
     "user_tz": -180
    },
    "id": "f9b243a7-e7d1-44b3-b3ec-e55dab22b9fa",
    "outputId": "b58f56ad-5a78-4a69-f036-dfbb9b533473"
   },
   "outputs": [],
   "source": [
    "from nltk.parse import CoreNLPParser\n",
    "import nltk\n",
    "#nltk.download('punkt')\n",
    "import textstat\n",
    "from gensim.models import Word2Vec\n",
    "from nltk.tokenize import word_tokenize\n",
    "import matplotlib.pyplot as plt\n",
    "import pandas as pd"
   ]
  },
  {
   "cell_type": "code",
   "execution_count": null,
   "id": "KjkuShpWoFaT",
   "metadata": {
    "colab": {
     "base_uri": "https://localhost:8080/"
    },
    "executionInfo": {
     "elapsed": 23671,
     "status": "ok",
     "timestamp": 1698911346557,
     "user": {
      "displayName": "Alex Agustín",
      "userId": "09506120750090096290"
     },
     "user_tz": -180
    },
    "id": "KjkuShpWoFaT",
    "outputId": "7f9a9a2d-a764-4a40-a2c4-3efd05505483"
   },
   "outputs": [
    {
     "name": "stdout",
     "output_type": "stream",
     "text": [
      "Mounted at /content/drive\n"
     ]
    }
   ],
   "source": [
    "from google.colab import drive\n",
    "drive.mount('/content/drive')"
   ]
  },
  {
   "cell_type": "code",
   "execution_count": 44,
   "id": "7b5f97f8-d72c-4782-b911-5cb707ddb575",
   "metadata": {
    "colab": {
     "base_uri": "https://localhost:8080/"
    },
    "executionInfo": {
     "elapsed": 882,
     "status": "ok",
     "timestamp": 1698911416558,
     "user": {
      "displayName": "Alex Agustín",
      "userId": "09506120750090096290"
     },
     "user_tz": -180
    },
    "id": "7b5f97f8-d72c-4782-b911-5cb707ddb575",
    "outputId": "299ef1fa-c58f-4511-f220-f0d8e5d7986f"
   },
   "outputs": [],
   "source": [
    "#%cd /content/drive/MyDrive/ProyectoNLP/\n",
    "# Sample text containing a rule\n",
    "\"\"\"Sample_text = {\n",
    "    \"The manager shall approve the budget.\",\n",
    "    \"The quick brown fox jumps over the lazy dog.\",\n",
    "    \"If the weather is nice, we shall have a picnic.\",\n",
    "    \"When the alarm rings, you shall evacuate the building.\",\n",
    "    \"Unless you complete your assignment, you shall not receive a grade.\",\n",
    "    \"The first protocol shall be implemented.\",\n",
    "}\"\"\"\n",
    "# Read the sample text from a .txt file\n",
    "file_path = 'ChessRules.txt'  # Replace with the actual path to your .txt file\n",
    "with open(file_path, 'r') as file:\n",
    "    ChessRules = file.read()\n",
    "ChessRulesDataSet = nltk.sent_tokenize(ChessRules)\n",
    "\n",
    "# Read the sample text from a .txt file\n",
    "file_path = 'INTEL.txt'  # Replace with the actual path to your .txt file\n",
    "with open(file_path, 'r') as file:\n",
    "    ChessRules = file.read()\n",
    "IntelDataSet = nltk.sent_tokenize(ChessRules)\n",
    "\n",
    "\n",
    "\n",
    "# Initialize the CoreNLPParser with the CoreNLP server URL\n",
    "parser = CoreNLPParser(url=\"http://localhost:9001\")\n",
    "\n",
    "# Define a list of prepositions\n",
    "prepositions = [\"above\", \"across\", \"against\", \"along\", \"among\", \"around\", \"at\", \"before\", \"behind\", \"below\", \"beneath\", \"beside\", \"between\", \"by\", \"down\", \"from\", \"in\", \"into\", \"near\", \"of\", \"off\", \"on\", \"to\", \"toward\", \"under\", \"upon\", \"with\", \"within\"]\n"
   ]
  },
  {
   "cell_type": "code",
   "execution_count": 45,
   "id": "AbIawCe0DTGw",
   "metadata": {
    "id": "AbIawCe0DTGw"
   },
   "outputs": [],
   "source": [
    "def getFideSamples():\n",
    "    file_path = 'FIDE_Ubiquitous_dataset.txt'  # Replace with the actual path to your .txt file\n",
    "    with open(file_path, 'r') as file:\n",
    "        UbiquitousBySight = file.read()\n",
    "\n",
    "    file_path = 'FIDE_Event-Driven_dataset.txt'  # Replace with the actual path to your .txt file\n",
    "    with open(file_path, 'r') as file:\n",
    "        EventBySight = file.read()\n",
    "\n",
    "    file_path = 'FIDE_State-Driven_dataset.txt'  # Replace with the actual path to your .txt file\n",
    "    with open(file_path, 'r') as file:\n",
    "        StateBySight = file.read()\n",
    "    return UbiquitousBySight,EventBySight,StateBySight\n",
    "\n",
    "def getIntelSamples():\n",
    "    file_path = 'INTEL_Ubiquitous_dataset.txt'  # Replace with the actual path to your .txt file\n",
    "    with open(file_path, 'r') as file:\n",
    "        UbiquitousBySight = file.read()\n",
    "\n",
    "    file_path = 'INTEL_Event-Driven_dataset.txt'  # Replace with the actual path to your .txt file\n",
    "    with open(file_path, 'r') as file:\n",
    "        EventBySight = file.read()\n",
    "\n",
    "    file_path = 'INTEL_State-Driven_dataset.txt'  # Replace with the actual path to your .txt file\n",
    "    with open(file_path, 'r') as file:\n",
    "        StateBySight = file.read()\n",
    "    return UbiquitousBySight,EventBySight,StateBySight"
   ]
  },
  {
   "cell_type": "code",
   "execution_count": 46,
   "id": "IlufN_NDAmUf",
   "metadata": {
    "id": "IlufN_NDAmUf"
   },
   "outputs": [],
   "source": [
    "def checkUbiquitous(parsed_tree):\n",
    "    the = shall = False\n",
    "    for tree in parsed_tree:\n",
    "        for word, tag in tree.pos():\n",
    "            if tag in ['DT', 'NN'] and word.lower() == 'the': #Case sensitive because it has to be the first word of the sentence\n",
    "                the = True\n",
    "            elif the and tag == 'MD' and word.lower() == 'shall':\n",
    "                shall = True\n",
    "            '''if (tag == 'WRB' and word.lower() == 'when') or (tag == 'IN' and word.lower() == 'while') :\n",
    "                shall = False\n",
    "                break\n",
    "            '''\n",
    "    return shall"
   ]
  },
  {
   "cell_type": "code",
   "execution_count": 47,
   "id": "pZohLH02C4jB",
   "metadata": {
    "id": "pZohLH02C4jB"
   },
   "outputs": [],
   "source": [
    "def checkEvent(parsed_tree):\n",
    "    when = the = shall = False\n",
    "    for tree in parsed_tree:\n",
    "        for word, tag in tree.pos():\n",
    "            if tag == 'WRB' and word.lower() == 'when':\n",
    "                when = True\n",
    "            elif when and tag in ['DT', 'NN'] and word.lower() == 'the':\n",
    "                the = True\n",
    "            elif the and tag == 'MD' and word.lower() == 'shall':\n",
    "                shall = True\n",
    "    return shall"
   ]
  },
  {
   "cell_type": "code",
   "execution_count": 48,
   "id": "K5iG9Ty9FLWQ",
   "metadata": {
    "id": "K5iG9Ty9FLWQ"
   },
   "outputs": [],
   "source": [
    "def checkState(parsed_tree):\n",
    "    while_ = the = shall = False\n",
    "    for tree in parsed_tree:\n",
    "        for word, tag in tree.pos():\n",
    "            if tag == 'IN' and word.lower() == 'while':\n",
    "                while_ = True\n",
    "            elif while_ and tag in ['DT', 'NN'] and word.lower() == 'the':\n",
    "                the = True\n",
    "            elif the and tag == 'MD' and word.lower() == 'shall':\n",
    "                shall = True\n",
    "    return shall"
   ]
  },
  {
   "cell_type": "code",
   "execution_count": 49,
   "id": "e3f6004d-a4da-444a-8d37-0a836e295719",
   "metadata": {
    "id": "e3f6004d-a4da-444a-8d37-0a836e295719"
   },
   "outputs": [],
   "source": [
    "def countNounsAdjectives(parsed_tree, nouns, adjectives):\n",
    "    for tree in parsed_tree:\n",
    "        for word, tag in tree.pos():\n",
    "            if tag in ['NN', 'NNS']:\n",
    "                nouns += 1\n",
    "            elif tag in ['JJ', 'JJR', 'JJS']:\n",
    "                adjectives += 1\n",
    "    return nouns, adjectives"
   ]
  },
  {
   "cell_type": "code",
   "execution_count": 69,
   "id": "563f3338",
   "metadata": {},
   "outputs": [
    {
     "name": "stdout",
     "output_type": "stream",
     "text": [
      "True\n"
     ]
    }
   ],
   "source": [
    "r = \"When an Order is shipped and Order Terms are not “Prepaid”, the system shall create an Invoice.\"\n",
    "parsed_tree = list(parser.raw_parse(r))\n",
    "print(checkEvent(parsed_tree))"
   ]
  },
  {
   "cell_type": "code",
   "execution_count": 71,
   "id": "P44Y4m04WErV",
   "metadata": {
    "colab": {
     "base_uri": "https://localhost:8080/",
     "height": 705
    },
    "executionInfo": {
     "elapsed": 237,
     "status": "error",
     "timestamp": 1698343493836,
     "user": {
      "displayName": "Alex Agustín",
      "userId": "09506120750090096290"
     },
     "user_tz": -180
    },
    "id": "P44Y4m04WErV",
    "outputId": "e8a3a76c-add1-46e5-f951-d13f9c4f2b23"
   },
   "outputs": [
    {
     "name": "stdout",
     "output_type": "stream",
     "text": [
      "• When a DVD is inserted into the DVD player, the OS shall\n",
      "     spin up the optical drive.\n",
      "• When the water level falls below the Low Water\n",
      "     Threshold, the software shall open the water valve\n",
      "     to fill the tank to the High Water Threshold.\n",
      "• Where a second optical drive is installed, when the user\n",
      "     selects to copy disks, the software shall display an option\n",
      "     to copy directly from one optical drive to the other optical\n",
      "     drive.\n",
      "• While in start up mode, when the software detects an\n",
      "     external flash card, the software shall use the external\n",
      "     flash card to store photos.\n",
      "Total sentences in the file: 329\n",
      "\n",
      "Number of Ubiquitous rules detected: 23\n",
      "Ubiquitous Rule Analysis Results\n",
      "18     5\n",
      "5     301\n",
      "The accuracy of the script on the recognition of Ubiquious rule instances is: 96.96048632218846\n",
      "\n",
      "Number of Event-Driven rules detected: 1\n",
      "Event-Driven Rule Analysis Results\n",
      "1     0\n",
      "3     325\n",
      "The accuracy of the script on the recognition of Event-Driven rule instances is: 99.08814589665653\n",
      "\n",
      "Number of State-Driven rules detected: 2\n",
      "State-Driven Rule Analysis Results\n",
      "2     0\n",
      "4     323\n",
      "The accuracy of the script on the recognition of State-Driven rule instances is: 98.78419452887537\n",
      "General metrics of the file:\n",
      "Total number of words: 5022\n",
      "Proportion of distinct tokens in sentences that fit any of the rules: 0.026682596575069693\n",
      "Proportion of preposition words in sentences that fit any of the rules: 0.018717642373556352\n",
      "Number of nouns in sentences that fit any of the rules: 62\n",
      "Total number of adjectives in sentences that fit any of the rules: 6\n",
      "Readability for Ubiquitous rule 12.7\n"
     ]
    }
   ],
   "source": [
    "TPUbiq = TNUbiq = FNUbiq = FPUbiq = 0\n",
    "TPEvent = TNEvent = FNEvent = FPEvent = 0\n",
    "TPState = TNState = FNState = FPState = 0\n",
    "totalSentences = UbiquitousCont = EventCont = StateCont = nonCont = 0\n",
    "appearsStateRule = appearsUbiquitousRule = appearsEventRule = False\n",
    "\n",
    "# Initialize counters for the requested features\n",
    "total_words = 0\n",
    "distinct_tokens = set()\n",
    "preposition_count = 0\n",
    "total_noun_count = 0\n",
    "total_adjective_count = 0\n",
    "\n",
    "input_text = 0\n",
    "\n",
    "if input_text:\n",
    "    sample_text = ChessRulesDataSet\n",
    "    UbiquitousBySight, EventBySight, StateBySight = getFideSamples()\n",
    "  #print(UbiquitousBySight)\n",
    "else:\n",
    "    sample_text = IntelDataSet\n",
    "    UbiquitousBySight, EventBySight, StateBySight = getIntelSamples()\n",
    "\n",
    "for sentence in sample_text:\n",
    "    found_tp = found_fn = False\n",
    "    #print(sentence, \"\\n\")\n",
    "\n",
    "    totalSentences +=1\n",
    "    #presence_the = presence_shall = presmódulosence_conditional = False\n",
    "    # Tokenize and parse the input text\n",
    "    parsed_tree = list(parser.raw_parse(sentence))\n",
    "\n",
    "    # Update the total number of words\n",
    "    total_words += len(sentence.split())\n",
    "\n",
    "    #Check for Ubiquitous rule presence\n",
    "    appearsUbiquitousRule = checkUbiquitous(parsed_tree)\n",
    "\n",
    "    #Check for Event-Driven rule presence\n",
    "    appearsEventRule = checkEvent(parsed_tree)\n",
    "\n",
    "    #Check for State-Driven rule presence\n",
    "    appearsStateRule = checkState(parsed_tree)\n",
    "\n",
    "    if appearsUbiquitousRule or appearsEventRule or appearsStateRule:\n",
    "        #print(sentence)\n",
    "        # Count the number of nouns and adjectives\n",
    "        total_noun_count, total_adjective_count = countNounsAdjectives(parsed_tree, total_noun_count, total_adjective_count)\n",
    "\n",
    "        # Count distinct tokens (words)\n",
    "        distinct_tokens.update(sentence.split())\n",
    "\n",
    "        # Count the number of prepositions in the sentence\n",
    "        preposition_count += sum(sentence.lower().count(preposition) for preposition in prepositions)\n",
    "\n",
    "    #Count number of True Positives and True Negatives of Rules\n",
    "    if appearsUbiquitousRule:\n",
    "        UbiquitousCont += 1\n",
    "        if sentence in UbiquitousBySight: TPUbiq += 1\n",
    "        else:                             FPUbiq += 1\n",
    "\n",
    "    else:\n",
    "        if sentence in UbiquitousBySight: FNUbiq += 1\n",
    "        else:                             TNUbiq += 1\n",
    "\n",
    "    if appearsEventRule:\n",
    "        print(sentence)\n",
    "        EventCont += 1\n",
    "        if sentence in EventBySight: TPEvent += 1\n",
    "        else:                             FPEvent += 1\n",
    "\n",
    "    else:\n",
    "        if sentence in EventBySight: \n",
    "            print(sentence)\n",
    "            FNEvent += 1\n",
    "        else:                             TNEvent += 1\n",
    "\n",
    "    if appearsStateRule:\n",
    "        StateCont += 1\n",
    "        if sentence in StateBySight: TPState += 1\n",
    "        else:                             FPState += 1\n",
    "\n",
    "    else:\n",
    "        if sentence in StateBySight: FNState += 1\n",
    "        else:                             TNState += 1\n",
    "\n",
    "\n",
    "# Calculate the proportion of distinct tokens over total words\n",
    "proportion_distinct_tokens = len(distinct_tokens) / total_words\n",
    "\n",
    "# Calculate the proportion of prepositions over total words\n",
    "proportion_prepositions = preposition_count / total_words\n",
    "\n",
    "#Calculate readibility with textstat\n",
    "readability = textstat.automated_readability_index(ChessRules)\n",
    "\n",
    "#All the appearences of the Ubiquitous rule has been counted by sight\n",
    "if input_text:\n",
    "    ICCGI2013Ubiquitous = 71\n",
    "    ICCGI2013Event = 0\n",
    "    ICCGI2013State = 0\n",
    "else:\n",
    "    ICCGI2013Ubiquitous = 58\n",
    "    ICCGI2013Event = 12\n",
    "    ICCGI2013State = 8\n",
    "    \n",
    "# Print the results\n",
    "print(\"Total sentences in the file:\", totalSentences)\n",
    "\n",
    "print(\"\\nNumber of Ubiquitous rules detected:\", UbiquitousCont)\n",
    "print(\"Ubiquitous Rule Analysis Results\")\n",
    "print(TPUbiq,\"   \", FPUbiq)\n",
    "print(FNUbiq,\"   \", TNUbiq)\n",
    "print(\"The accuracy of the script on the recognition of Ubiquious rule instances is:\", ((TPUbiq + TNUbiq) / totalSentences )*100)\n",
    "\n",
    "print(\"\\nNumber of Event-Driven rules detected:\", EventCont)\n",
    "print(\"Event-Driven Rule Analysis Results\")\n",
    "print(TPEvent,\"   \", FPEvent)\n",
    "print(FNEvent,\"   \", TNEvent)\n",
    "print(\"The accuracy of the script on the recognition of Event-Driven rule instances is:\", ((TPEvent + TNEvent) / totalSentences )*100)\n",
    "\n",
    "print(\"\\nNumber of State-Driven rules detected:\", StateCont)\n",
    "print(\"State-Driven Rule Analysis Results\")\n",
    "print(TPState,\"   \", FPState)\n",
    "print(FNState,\"   \", TNState)\n",
    "print(\"The accuracy of the script on the recognition of State-Driven rule instances is:\", ( (TPState + TNState) / totalSentences )*100)\n",
    "\n",
    "print(\"General metrics of the file:\")\n",
    "print(\"Total number of words:\", total_words)\n",
    "print(\"Proportion of distinct tokens in sentences that fit any of the rules:\", proportion_distinct_tokens)\n",
    "print(\"Proportion of preposition words in sentences that fit any of the rules:\", proportion_prepositions)\n",
    "print(\"Number of nouns in sentences that fit any of the rules:\", total_noun_count)\n",
    "print(\"Total number of adjectives in sentences that fit any of the rules:\", total_adjective_count)\n",
    "print(\"Readability for Ubiquitous rule\", readability)\n"
   ]
  },
  {
   "cell_type": "markdown",
   "id": "WVeih8WBBgIF",
   "metadata": {
    "id": "WVeih8WBBgIF"
   },
   "source": [
    "Possible dataset https://github.com/facebookresearch/asset/blob/main/dataset/asset.valid.simp.9"
   ]
  },
  {
   "cell_type": "code",
   "execution_count": null,
   "id": "aE4AEViwAxhb",
   "metadata": {
    "id": "aE4AEViwAxhb"
   },
   "outputs": [],
   "source": []
  },
  {
   "cell_type": "code",
   "execution_count": 72,
   "id": "kpsP23syAsmU",
   "metadata": {
    "id": "kpsP23syAsmU"
   },
   "outputs": [
    {
     "data": {
      "image/png": "[encoded data removed]",
      "text/plain": [
       "<Figure size 432x288 with 1 Axes>"
      ]
     },
     "metadata": {
      "needs_background": "light"
     },
     "output_type": "display_data"
    },
    {
     "name": "stdout",
     "output_type": "stream",
     "text": [
      "      Rule Type  True Positives  False Positives  True Negatives  \\\n",
      "0    Ubiquitous              18                5             301   \n",
      "1  Event-Driven               1                0             325   \n",
      "2  State-Driven               2                0             323   \n",
      "\n",
      "   False Negatives  Accuracy (%)  \n",
      "0                5     96.960486  \n",
      "1                3     99.088146  \n",
      "2                4     98.784195  \n"
     ]
    },
    {
     "data": {
      "image/png": "[encoded data removed]",
      "text/plain": [
       "<Figure size 432x288 with 1 Axes>"
      ]
     },
     "metadata": {
      "needs_background": "light"
     },
     "output_type": "display_data"
    }
   ],
   "source": [
    "\n",
    "# Definir los datos\n",
    "detected_rules = [\"Ubiquitous\", \"Event-Driven\", \"State-Driven\"]\n",
    "true_positives = [TPUbiq, TPEvent, TPState]\n",
    "true_negatives = [TNUbiq, TNEvent, TNState]\n",
    "\n",
    "# Crear un gráfico de barras\n",
    "plt.bar(detected_rules, true_positives, label='True Positives')\n",
    "plt.bar(detected_rules, true_negatives, label='True Negatives', bottom=true_positives)\n",
    "\n",
    "# Agregar etiquetas y leyenda\n",
    "plt.xlabel('Rule Type')\n",
    "plt.ylabel('Count')\n",
    "plt.title('True Positives and True Negatives by Rule Type')\n",
    "plt.legend()\n",
    "plt.show()\n",
    "\n",
    "# Crear un diccionario con los resultados\n",
    "results_data = {\n",
    "    \"Rule Type\": [\"Ubiquitous\", \"Event-Driven\", \"State-Driven\"],\n",
    "    \"True Positives\": [TPUbiq, TPEvent, TPState],\n",
    "    \"False Positives\": [FPUbiq, FPEvent, FPState],\n",
    "    \"True Negatives\": [TNUbiq, TNEvent, TNState],\n",
    "    \"False Negatives\": [FNUbiq, FNEvent, FNState],\n",
    "    \"Accuracy (%)\": [((TPUbiq + TNUbiq) / totalSentences) * 100, ((TPEvent + TNEvent) / totalSentences) * 100, ((TPState + TNState) / totalSentences) * 100]\n",
    "}\n",
    "\n",
    "# Crear un DataFrame de Pandas\n",
    "results_df = pd.DataFrame(results_data)\n",
    "\n",
    "# Mostrar la tabla\n",
    "print(results_df)\n",
    "\n",
    "\n",
    "import matplotlib.pyplot as plt\n",
    "\n",
    "# Datos\n",
    "rule_types = [\"Ubiquitous\", \"Event-Driven\", \"State-Driven\"]\n",
    "true_positives = [TPUbiq, TPEvent, TPState]\n",
    "total_ubiquitous_by_sight = [ICCGI2013Ubiquitous, ICCGI2013Event, ICCGI2013State]\n",
    "\n",
    "# Posiciones de las barras en el eje x\n",
    "x = range(len(rule_types))\n",
    "\n",
    "# Ancho de las barras\n",
    "width = 0.4\n",
    "\n",
    "# Crear el gráfico de barras\n",
    "fig, ax = plt.subplots()\n",
    "bar1 = ax.bar(x, true_positives, width, label='True Positives')\n",
    "bar2 = ax.bar([i + width for i in x], total_ubiquitous_by_sight, width, label='Total Ubiquitous by Sight')\n",
    "\n",
    "# Etiquetas de eje x y título\n",
    "ax.set_xticks([i + width / 2 for i in x])\n",
    "ax.set_xticklabels(rule_types)\n",
    "ax.set_xlabel('Rule Type')\n",
    "ax.set_ylabel('Count')\n",
    "ax.set_title('Comparison of True Positives and Total Ubiquitous by Sight by Rule Type')\n",
    "\n",
    "# Agregar una leyenda\n",
    "ax.legend()\n",
    "\n",
    "# Mostrar el gráfico\n",
    "plt.show()\n"
   ]
  }
 ],
 "metadata": {
  "colab": {
   "provenance": []
  },
  "kernelspec": {
   "display_name": "Python 3 (ipykernel)",
   "language": "python",
   "name": "python3"
  },
  "language_info": {
   "codemirror_mode": {
    "name": "ipython",
    "version": 3
   },
   "file_extension": ".py",
   "mimetype": "text/x-python",
   "name": "python",
   "nbconvert_exporter": "python",
   "pygments_lexer": "ipython3",
   "version": "3.10.12"
  }
 },
 "nbformat": 4,
 "nbformat_minor": 5
}
